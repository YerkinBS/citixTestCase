{
 "cells": [
  {
   "cell_type": "code",
   "execution_count": 2,
   "metadata": {},
   "outputs": [],
   "source": [
    "# importing libraries and setting up openai\n",
    "import openai\n",
    "import os\n",
    "import pandas as pd\n",
    "from dotenv import load_dotenv\n",
    "\n",
    "load_dotenv()\n",
    "openai.api_key = os.getenv(\"openai_token\")"
   ]
  },
  {
   "cell_type": "code",
   "execution_count": null,
   "metadata": {},
   "outputs": [],
   "source": [
    "# initialising variables\n",
    "example_file = \"EXAMPLE.md\"\n",
    "df = pd.read_csv(\"Housing.csv\")\n",
    "\n",
    "messages=[\n",
    "    {\"role\": \"system\", \"content\": \"You are a post generator for an Instagram real estate account.\"},\n",
    "    {\"role\": \"user\", \"content\": \"My name is Yerkin and I am a real estate agent.\"},\n",
    "    {\"role\": \"assistant\", \"content\": \"Hi Yerkin, nice to meet you! What do you want me to do?\"},\n",
    "    {\"role\": \"user\", \"content\": \"Generate a captivating and sales-oriented Instagram description for a home. I will provide specific details and characteristics after this request. Excited to see your creative output!\"},\n",
    "    {\"role\": \"assistant\", \"content\": \"Sure, what are the details?\"},\n",
    "]"
   ]
  },
  {
   "cell_type": "code",
   "execution_count": null,
   "metadata": {},
   "outputs": [],
   "source": [
    "# functions\n",
    "def save_post(details, post):\n",
    "    with open(example_file, \"a\", encoding=\"utf-8\") as f:\n",
    "        f.write(details)\n",
    "        f.write(\"\\n===Post:\\n\\n\")\n",
    "        f.write(post)\n",
    "        f.write(\"\\n\\n\" + (\"=\" * 100) + \"\\n\\n\")\n",
    "\n",
    "\n",
    "def update(messages, role, content):\n",
    "    messages.append({\"role\": role, \"content\": content})\n",
    "    return messages\n",
    "\n",
    "\n",
    "def get_response(messages):\n",
    "    response = openai.ChatCompletion.create(\n",
    "        model=\"gpt-3.5-turbo\",\n",
    "        messages=messages\n",
    "    )\n",
    "    return response.choices[0]['message']['content']"
   ]
  },
  {
   "cell_type": "code",
   "execution_count": null,
   "metadata": {},
   "outputs": [],
   "source": [
    "# generating post\n",
    "random_house = df.sample().iloc[0]\n",
    "details = f\"\"\"\n",
    "- Price: {random_house['price']}\n",
    "- Area: {random_house['area']}\n",
    "- Bedrooms: {random_house['bedrooms']}\n",
    "- Bathrooms: {random_house['bathrooms']}\n",
    "- Stories: {random_house['stories']}\n",
    "- Mainroad: {random_house['mainroad']}\n",
    "- Guestroom: {random_house['guestroom']}\n",
    "- Basement: {random_house['basement']}\n",
    "- Hotwaterheating: {random_house['hotwaterheating']}\n",
    "- Airconditioning: {random_house['airconditioning']}\n",
    "- Parking: {random_house['parking']}\n",
    "- Prefarea: {random_house['prefarea']}\n",
    "- Furnishingstatus: {random_house['furnishingstatus']}\n",
    "\"\"\"\n",
    "\n",
    "messages = update(messages, \"user\", details)\n",
    "model_response = get_response(messages)\n",
    "messages = update(messages, \"assistant\", model_response)\n",
    "\n",
    "save_post(details, model_response)"
   ]
  }
 ],
 "metadata": {
  "kernelspec": {
   "display_name": "venv",
   "language": "python",
   "name": "python3"
  },
  "language_info": {
   "codemirror_mode": {
    "name": "ipython",
    "version": 3
   },
   "file_extension": ".py",
   "mimetype": "text/x-python",
   "name": "python",
   "nbconvert_exporter": "python",
   "pygments_lexer": "ipython3",
   "version": "3.11.4"
  }
 },
 "nbformat": 4,
 "nbformat_minor": 2
}
